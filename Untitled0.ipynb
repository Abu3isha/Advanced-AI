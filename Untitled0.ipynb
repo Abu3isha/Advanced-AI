{
  "nbformat": 4,
  "nbformat_minor": 0,
  "metadata": {
    "colab": {
      "provenance": [],
      "authorship_tag": "ABX9TyMLJqrzzcsVT8vlRggS4D+t",
      "include_colab_link": true
    },
    "kernelspec": {
      "name": "python3",
      "display_name": "Python 3"
    },
    "language_info": {
      "name": "python"
    }
  },
  "cells": [
    {
      "cell_type": "markdown",
      "metadata": {
        "id": "view-in-github",
        "colab_type": "text"
      },
      "source": [
        "<a href=\"https://colab.research.google.com/github/Abu3isha/Advanced-AI/blob/main/Untitled0.ipynb\" target=\"_parent\"><img src=\"https://colab.research.google.com/assets/colab-badge.svg\" alt=\"Open In Colab\"/></a>"
      ]
    },
    {
      "cell_type": "code",
      "execution_count": null,
      "metadata": {
        "colab": {
          "base_uri": "https://localhost:8080/"
        },
        "id": "AtpbU_ucezSz",
        "outputId": "3ea1f49f-78e1-4444-e12e-202c600babc9"
      },
      "outputs": [
        {
          "output_type": "stream",
          "name": "stdout",
          "text": [
            "sum: 15\n",
            "differnce: 5\n",
            "proudct: 50\n",
            "division: 2.0\n"
          ]
        }
      ],
      "source": [
        "a= 10\n",
        "b= 5\n",
        "sum = a+b\n",
        "difference = a-b\n",
        "product =a*b\n",
        "division =a/b\n",
        "\n",
        "print(\"sum:\",sum)\n",
        "print(\"differnce:\",difference)\n",
        "print(\"proudct:\",product)\n",
        "print(\"division:\",division)"
      ]
    },
    {
      "cell_type": "code",
      "source": [
        "print(f\"The sum of the tow numbers {a},{b} is{sum}\")"
      ],
      "metadata": {
        "colab": {
          "base_uri": "https://localhost:8080/"
        },
        "id": "qhHNZ9_GgTuz",
        "outputId": "3f936fd0-c7ed-4a74-fbc9-67e8be1cd3d6"
      },
      "execution_count": null,
      "outputs": [
        {
          "output_type": "stream",
          "name": "stdout",
          "text": [
            "The sum of the tow numbers 10,5 is15\n"
          ]
        }
      ]
    },
    {
      "cell_type": "code",
      "source": [
        "x=13//2\n",
        "print(x)\n",
        "y=13%2\n",
        "print(y)"
      ],
      "metadata": {
        "colab": {
          "base_uri": "https://localhost:8080/"
        },
        "collapsed": true,
        "id": "AkYzjhxjhoMH",
        "outputId": "69917862-7070-4d35-937c-9260befc0bb1"
      },
      "execution_count": null,
      "outputs": [
        {
          "output_type": "stream",
          "name": "stdout",
          "text": [
            "6\n",
            "1\n"
          ]
        }
      ]
    },
    {
      "cell_type": "code",
      "source": [
        "x=10\n",
        "y=5\n",
        "\n",
        "is_greater=x>y\n",
        "is_equal =x==y\n",
        "is_not_equal =x!=y\n",
        "\n",
        "print(\"Is x greater than y?\",is_greater)\n",
        "print(\"Is x equal y?\",is_equal)\n",
        "print(\"Is x not equal to y?\",is_not_equal)\n"
      ],
      "metadata": {
        "colab": {
          "base_uri": "https://localhost:8080/"
        },
        "id": "ZrSQgVzilz_2",
        "outputId": "aaa8bf4a-2efb-4e66-a00c-cb0f0efb043f"
      },
      "execution_count": null,
      "outputs": [
        {
          "output_type": "stream",
          "name": "stdout",
          "text": [
            "Is x greater than y? True\n",
            "Is x equal y? False\n",
            "Is x not equal to y? True\n"
          ]
        }
      ]
    },
    {
      "cell_type": "code",
      "source": [
        "# Variable assignment\n",
        "name=\"Alaa\"\n",
        "age=55\n",
        "is_professor= True\n",
        "\n",
        "print(f\"{name}'s ageis{age}.He is a professor is{is_professor}\")\n",
        "\n"
      ],
      "metadata": {
        "colab": {
          "base_uri": "https://localhost:8080/"
        },
        "id": "gHxN0stvrW81",
        "outputId": "414e0dcf-4bed-4a76-ebc7-708230aa592f"
      },
      "execution_count": null,
      "outputs": [
        {
          "output_type": "stream",
          "name": "stdout",
          "text": [
            "Alaa's ageis55.He is a professor isTrue\n"
          ]
        }
      ]
    },
    {
      "cell_type": "code",
      "source": [
        "# Defining and using a function\n",
        "def greet(name):\n",
        " return\"Hello,\"+ name +\"!\"\n",
        "\n",
        "my_name=input(\"Enter your name: \")\n",
        "greet(my_name)\n",
        "\n"
      ],
      "metadata": {
        "colab": {
          "base_uri": "https://localhost:8080/",
          "height": 53
        },
        "id": "5Y2WT1TvsQUT",
        "outputId": "0354e286-cdbc-47fe-a716-83c42e972136"
      },
      "execution_count": null,
      "outputs": [
        {
          "name": "stdout",
          "output_type": "stream",
          "text": [
            "Enter your name: Alaa\n"
          ]
        },
        {
          "output_type": "execute_result",
          "data": {
            "text/plain": [
              "'Hello,Alaa!'"
            ],
            "application/vnd.google.colaboratory.intrinsic+json": {
              "type": "string"
            }
          },
          "metadata": {},
          "execution_count": 41
        }
      ]
    },
    {
      "cell_type": "code",
      "source": [
        "def add_numbers(a,b):\n",
        " return a+b\n",
        "\n",
        "a =int(input(\"Enter first number:\"))\n",
        "b =int(input(\"Enter second number\"))\n",
        "\n",
        "\n",
        "addition_value= add_numbers(a,b)\n",
        "print(f\"The result of addition for{a}, {b} is{addition_value}\")\n"
      ],
      "metadata": {
        "colab": {
          "base_uri": "https://localhost:8080/"
        },
        "id": "W8DbNYVkyT3C",
        "outputId": "50eb6e72-3dc0-4f99-ce90-36cf0516d67f"
      },
      "execution_count": null,
      "outputs": [
        {
          "output_type": "stream",
          "name": "stdout",
          "text": [
            "Enter first number:2\n",
            "Enter second number3\n",
            "The result of addition for2, 3 is5\n"
          ]
        }
      ]
    },
    {
      "cell_type": "code",
      "source": [
        "def add_numbers(a,b):\n",
        " return a+b\n",
        "\n",
        "a =eval(input(\"Enter first number:\"))\n",
        "b =eval(input(\"Enter second number:\"))\n",
        "\n",
        "\n",
        "addition_value= add_numbers(a,b)\n",
        "print(f\"The result of addition for{a}, {b} is{addition_value}\")\n"
      ],
      "metadata": {
        "colab": {
          "base_uri": "https://localhost:8080/"
        },
        "id": "-mTtVn8_1tZD",
        "outputId": "2232fb8a-b5be-4ed6-c309-ccac8da20e1f"
      },
      "execution_count": null,
      "outputs": [
        {
          "output_type": "stream",
          "name": "stdout",
          "text": [
            "Enter first number:-4.5\n",
            "Enter second number:10\n",
            "The result of addition for-4.5, 10 is5.5\n"
          ]
        }
      ]
    },
    {
      "cell_type": "code",
      "source": [
        "# Working with strings\n",
        "message =\"Hello, world\"\n",
        "length=len(message)\n",
        "uppercase=message.upper()\n",
        "lowercase=message.lower()\n",
        "substring=message[7:12]\n",
        "\n",
        "print(\"Original message:\", message)\n",
        "print(\"The length is:\",length)\n",
        "print(\"Upper case:\",uppercase)\n",
        "print(\"Lower case:\",lowercase)\n",
        "print(\"Part of the message is:\",substring)"
      ],
      "metadata": {
        "id": "CCRGvF7_2W3R",
        "colab": {
          "base_uri": "https://localhost:8080/"
        },
        "outputId": "06579315-408a-4cc6-f756-44d983f8232a"
      },
      "execution_count": 56,
      "outputs": [
        {
          "output_type": "stream",
          "name": "stdout",
          "text": [
            "Original message: Hello, world\n",
            "The length is: 12\n",
            "Upper case: HELLO, WORLD\n",
            "Lower case: hello, world\n",
            "Part of the message is: world\n"
          ]
        }
      ]
    },
    {
      "cell_type": "code",
      "source": [
        "#Basic input example\n",
        "Last=input(\"Enter the last name,last name:\")\n",
        "First=input(\"Enter the last name,first name:\")\n",
        "\n",
        "print(f\"{Last},{First}\")"
      ],
      "metadata": {
        "colab": {
          "base_uri": "https://localhost:8080/"
        },
        "id": "aLoJ1egZCB2K",
        "outputId": "2fd97514-2e39-42b4-d56a-2c59212bc1ba"
      },
      "execution_count": 65,
      "outputs": [
        {
          "output_type": "stream",
          "name": "stdout",
          "text": [
            "Enter the last name,last name:Sheta\n",
            "Enter the last name,first name:Alaa\n",
            "Sheta,Alaa\n"
          ]
        }
      ]
    },
    {
      "cell_type": "code",
      "source": [
        "#Numeric input example\n",
        "age = int(input(\"Enter your age:\"))\n",
        "print(\"you will be\",age + 1,\"years old next year.\")"
      ],
      "metadata": {
        "colab": {
          "base_uri": "https://localhost:8080/"
        },
        "id": "mS3ey5cyHTop",
        "outputId": "8635339a-7606-48c6-e761-3f017e282339"
      },
      "execution_count": 66,
      "outputs": [
        {
          "output_type": "stream",
          "name": "stdout",
          "text": [
            "Enter your age:55\n",
            "you will be 56 years old next year.\n"
          ]
        }
      ]
    },
    {
      "cell_type": "code",
      "source": [
        "# Calculations with input\n",
        "\n",
        "num1 = float(input(\"Enter a number:\"))\n",
        "num2 = float(input(\"Enter anther number:\"))\n",
        "sum_result = num1 + num2\n",
        "print(\"sum:,sum_result\")"
      ],
      "metadata": {
        "colab": {
          "base_uri": "https://localhost:8080/"
        },
        "id": "Wx-ZjXVtHoFx",
        "outputId": "0df827ac-cb08-41e7-efc6-facf53250587"
      },
      "execution_count": 67,
      "outputs": [
        {
          "output_type": "stream",
          "name": "stdout",
          "text": [
            "Enter a number:12\n",
            "Enter anther number:14\n",
            "sum:,sum_result\n"
          ]
        }
      ]
    },
    {
      "cell_type": "code",
      "source": [
        "# string concatenation with input\n",
        "city = input(\"Enter your city\")\n",
        "country = input(\"Enter your country:\")\n",
        "location = city +\",\" + country\n",
        "print(\"you are in:\",location)"
      ],
      "metadata": {
        "colab": {
          "base_uri": "https://localhost:8080/"
        },
        "id": "Va8mvvg6Mz8p",
        "outputId": "8339d192-1353-4e4a-fa37-455bf4476e90"
      },
      "execution_count": 73,
      "outputs": [
        {
          "output_type": "stream",
          "name": "stdout",
          "text": [
            "Enter your cityNew Haven\n",
            "Enter your country:USA\n",
            "you are in: New Haven,USA\n"
          ]
        }
      ]
    },
    {
      "cell_type": "code",
      "source": [
        "#Multiple inputs\n",
        "name,age=input(\"Enteryour name and age sperated by space:\").split()\n",
        "print(f\"my name is {name} and my age is{age}\")"
      ],
      "metadata": {
        "colab": {
          "base_uri": "https://localhost:8080/"
        },
        "id": "yrbxTUScJrpN",
        "outputId": "7600b80b-1c3c-4c25-8ef6-a9b1e2bf251c"
      },
      "execution_count": 70,
      "outputs": [
        {
          "output_type": "stream",
          "name": "stdout",
          "text": [
            "Enteryour name and age sperated by space:Alaa 55\n",
            "my name is Alaa and my age is55\n"
          ]
        }
      ]
    }
  ]
}